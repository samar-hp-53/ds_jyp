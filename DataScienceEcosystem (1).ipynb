{
 "cells": [
  {
   "cell_type": "markdown",
   "id": "056d7c86-b853-4d8c-8cb2-049333747626",
   "metadata": {},
   "source": [
    "Data Science Tools and Ecosystem"
   ]
  },
  {
   "cell_type": "markdown",
   "id": "7539e4a1-7725-4904-b1a2-a2c6f5eb5ef2",
   "metadata": {},
   "source": [
    "In this notebook, Data Science Tools and Ecosystem are summarized"
   ]
  },
  {
   "cell_type": "markdown",
   "id": "741440c3-3de4-42ec-87d4-5eb9d1895977",
   "metadata": {},
   "source": [
    "Some of the popular languages that Data Scientists use are:\n",
    "\n",
    "- **Python**: widely used fro data analysis.\n",
    "- **R**: Perferred for statistical analysis and visualization.\n",
    "- **SQL**: Essential for database management and querying\n",
    "- **Julia**: Gainig popularity for high-preforance numerical analysis"
   ]
  },
  {
   "cell_type": "markdown",
   "id": "aa871cdf-00c6-4deb-960c-a5c48aae8958",
   "metadata": {},
   "source": [
    "Some of the commonly used libraries used by Data Scientists include:\n",
    "\n",
    "- **NumPy** : A fundamental package for numarical computing in python.\n",
    "- **Pandas** : provid data structers and data analysis tools for python.\n",
    "- **Matplotlib** : A ploting library for creating statics.\n",
    "- **PyTorch** : An open-source machin learing libariry based on the torch library."
   ]
  },
  {
   "cell_type": "markdown",
   "id": "89ffc47b-7cce-4843-970a-1104f299dab8",
   "metadata": {},
   "source": [
    "| Data Science Tools   |\n",
    "|----------------------|\n",
    "| Jupyter Notebook      |\n",
    "| RStudio               |\n",
    "| Apache Zeppelin       |\n"
   ]
  },
  {
   "cell_type": "markdown",
   "id": "85e074fa-43ed-4086-a38d-91d832122763",
   "metadata": {},
   "source": [
    "### Below are a few examples of evaluating arithmetic expressions in Python\n",
    "\n",
    "Here are some examples of basic arithmetic expressions:\n",
    "\n",
    "- **Addition**: \\( a + b \\)\n",
    "- **Subtraction**: \\( a - b \\)\n",
    "- **Multiplication**: \\( a \\times b \\)\n",
    "- **Division**: \\( a \\div b \\)\n",
    "- **Exponentiation**: \\( a^b \\)\n"
   ]
  },
  {
   "cell_type": "code",
   "execution_count": 1,
   "id": "cad6bfbd-eb87-4f15-808a-98460040e3bd",
   "metadata": {
    "tags": []
   },
   "outputs": [
    {
     "data": {
      "text/plain": [
       "17"
      ]
     },
     "execution_count": 1,
     "metadata": {},
     "output_type": "execute_result"
    }
   ],
   "source": [
    "# This is a simple arithmetic expression to multiply then add integers.\n",
    "result = (3 * 4) + 5\n",
    "result "
   ]
  },
  {
   "cell_type": "code",
   "execution_count": 2,
   "id": "1b84260a-45d1-4cce-96f9-7ca51040f7aa",
   "metadata": {
    "tags": []
   },
   "outputs": [
    {
     "data": {
      "text/plain": [
       "3.3333333333333335"
      ]
     },
     "execution_count": 2,
     "metadata": {},
     "output_type": "execute_result"
    }
   ],
   "source": [
    "#This will convert 200 minutes to hours by diving by 60\n",
    "minutes = 200\n",
    "hours = minutes / 60\n",
    "hours"
   ]
  },
  {
   "cell_type": "markdown",
   "id": "6ca7df3e-f64a-460d-92f3-bfff640cedde",
   "metadata": {},
   "source": [
    "*Objectives:*\n",
    "\n",
    "- List popular languages for Data Science.\n",
    "- Introduce common data science libraries and their uses.\n",
    "- Explain arithmetic operations in Python.\n",
    "- Convert time units (minutes to hours).\n",
    "- Provide examples of data science tools and their applications."
   ]
  },
  {
   "cell_type": "markdown",
   "id": "e730cd3c-88a9-46e7-8bbb-144c497cbb65",
   "metadata": {},
   "source": [
    "## Author\n",
    "  Sangamesh"
   ]
  },
  {
   "cell_type": "code",
   "execution_count": null,
   "id": "bc3ecd4b-1aaf-4aed-befa-b19ff1207f36",
   "metadata": {},
   "outputs": [],
   "source": []
  }
 ],
 "metadata": {
  "kernelspec": {
   "display_name": "Python",
   "language": "python",
   "name": "conda-env-python-py"
  },
  "language_info": {
   "codemirror_mode": {
    "name": "ipython",
    "version": 3
   },
   "file_extension": ".py",
   "mimetype": "text/x-python",
   "name": "python",
   "nbconvert_exporter": "python",
   "pygments_lexer": "ipython3",
   "version": "3.7.12"
  }
 },
 "nbformat": 4,
 "nbformat_minor": 5
}
